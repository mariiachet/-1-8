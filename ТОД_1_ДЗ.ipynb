{
  "nbformat": 4,
  "nbformat_minor": 0,
  "metadata": {
    "colab": {
      "provenance": []
    },
    "kernelspec": {
      "name": "python3",
      "display_name": "Python 3"
    },
    "language_info": {
      "name": "python"
    },
    "gpuClass": "standard"
  },
  "cells": [
    {
      "cell_type": "markdown",
      "source": [
        "Задание 1"
      ],
      "metadata": {
        "id": "BwFQ1HoYHvRR"
      }
    },
    {
      "cell_type": "code",
      "execution_count": 2,
      "metadata": {
        "id": "H60HhZxCZ1W2"
      },
      "outputs": [],
      "source": [
        "import numpy as np\n",
        "a = np.loadtxt(\"minutes_n_ingredients.csv\",\n",
        "                    delimiter=\",\",skiprows = 1, dtype=int)\n"
      ]
    },
    {
      "cell_type": "code",
      "source": [
        "b=a[:5]\n",
        "b"
      ],
      "metadata": {
        "colab": {
          "base_uri": "https://localhost:8080/"
        },
        "id": "j-3XcIqSsBJc",
        "outputId": "1e8c2d2e-33d4-43af-f330-0036b9adf12a"
      },
      "execution_count": null,
      "outputs": [
        {
          "output_type": "execute_result",
          "data": {
            "text/plain": [
              "array([[127244,     60,     16],\n",
              "       [ 23891,     25,      7],\n",
              "       [ 94746,     10,      6],\n",
              "       [ 67660,      5,      6],\n",
              "       [157911,     60,     14]])"
            ]
          },
          "metadata": {},
          "execution_count": 10
        }
      ]
    },
    {
      "cell_type": "markdown",
      "source": [
        "задание 2"
      ],
      "metadata": {
        "id": "T1tzH1t7H31Z"
      }
    },
    {
      "cell_type": "code",
      "source": [
        "ingsr=0\n",
        "c=np.mean(a, axis = 0)#среднее значение\n",
        "print(c[1].astype(int))\n",
        "ingsr=c[2].astype(int)\n",
        "print(ingsr)\n",
        "\n",
        "print(np.min(a[1]))# min\n",
        "print(np.min(a[2]))\n",
        "\n",
        "print(np.max(a[1]))# max\n",
        "print(np.max(a[2]))\n",
        "\n",
        "med=np.median(a, axis=0)#медиана\n",
        "print(med[1:3].astype(int))"
      ],
      "metadata": {
        "colab": {
          "base_uri": "https://localhost:8080/"
        },
        "id": "n7kLbbZPvitM",
        "outputId": "387a4fa4-e3af-40fb-93b2-25f7b85accfd"
      },
      "execution_count": 4,
      "outputs": [
        {
          "output_type": "stream",
          "name": "stdout",
          "text": [
            "21601\n",
            "9\n",
            "7\n",
            "6\n",
            "23891\n",
            "94746\n",
            "[40  9]\n"
          ]
        }
      ]
    },
    {
      "cell_type": "markdown",
      "source": [
        "Задание 3"
      ],
      "metadata": {
        "id": "6VRDbXP1INpD"
      }
    },
    {
      "cell_type": "code",
      "source": [
        "d=np.quantile(a,.75,axis = 0)\n",
        "e=d[1].astype(int)\n",
        "f=np.clip(a[:,1],None,e)\n",
        "f"
      ],
      "metadata": {
        "colab": {
          "base_uri": "https://localhost:8080/"
        },
        "id": "bEt577mzwND-",
        "outputId": "7d0aa71f-037c-46a2-b7fc-2bbaa14754ab"
      },
      "execution_count": 5,
      "outputs": [
        {
          "output_type": "execute_result",
          "data": {
            "text/plain": [
              "array([60, 25, 10, ..., 65,  5, 65])"
            ]
          },
          "metadata": {},
          "execution_count": 5
        }
      ]
    },
    {
      "cell_type": "markdown",
      "source": [
        "Задание 4"
      ],
      "metadata": {
        "id": "ZypXqomKIQyY"
      }
    },
    {
      "cell_type": "code",
      "source": [
        "zero=(a[:,1] == 0).sum()\n",
        "a[:,1]= np.clip(a[:,1], 1, None)\n",
        "print(zero)"
      ],
      "metadata": {
        "colab": {
          "base_uri": "https://localhost:8080/"
        },
        "id": "2IHQ8cI86l7u",
        "outputId": "dc5076ca-2edc-46f9-bf74-370fdc72cfe6"
      },
      "execution_count": 6,
      "outputs": [
        {
          "output_type": "stream",
          "name": "stdout",
          "text": [
            "479\n"
          ]
        }
      ]
    },
    {
      "cell_type": "markdown",
      "source": [
        "Задание 5"
      ],
      "metadata": {
        "id": "gmeYkh3QIV7G"
      }
    },
    {
      "cell_type": "code",
      "source": [
        "u=np.stack((a[:,1],a[:,2]), axis=1)\n",
        "u1= np.unique(u, axis=0)\n",
        "print(u1.shape[0])"
      ],
      "metadata": {
        "colab": {
          "base_uri": "https://localhost:8080/"
        },
        "id": "Xk30G00UUf1e",
        "outputId": "bbd8a530-e1b8-4fdc-8f3c-f31e9fa1e313"
      },
      "execution_count": null,
      "outputs": [
        {
          "output_type": "stream",
          "name": "stdout",
          "text": [
            "4183\n"
          ]
        }
      ]
    },
    {
      "cell_type": "markdown",
      "source": [
        "Задание 6"
      ],
      "metadata": {
        "id": "2eFlEnUsIbBa"
      }
    },
    {
      "cell_type": "code",
      "source": [
        "u2, counts = np.unique(a[:,2], return_counts=True)\n",
        "dict(zip(u2, counts))"
      ],
      "metadata": {
        "colab": {
          "base_uri": "https://localhost:8080/"
        },
        "id": "HxCPeWzRbKo-",
        "outputId": "a995d82a-6442-465e-fd95-f07a31b47e06"
      },
      "execution_count": null,
      "outputs": [
        {
          "output_type": "execute_result",
          "data": {
            "text/plain": [
              "{1: 13,\n",
              " 2: 926,\n",
              " 3: 2895,\n",
              " 4: 5515,\n",
              " 5: 7913,\n",
              " 6: 9376,\n",
              " 7: 10628,\n",
              " 8: 10951,\n",
              " 9: 10585,\n",
              " 10: 9591,\n",
              " 11: 8297,\n",
              " 12: 6605,\n",
              " 13: 4997,\n",
              " 14: 3663,\n",
              " 15: 2595,\n",
              " 16: 1767,\n",
              " 17: 1246,\n",
              " 18: 790,\n",
              " 19: 573,\n",
              " 20: 376,\n",
              " 21: 217,\n",
              " 22: 161,\n",
              " 23: 105,\n",
              " 24: 69,\n",
              " 25: 50,\n",
              " 26: 28,\n",
              " 27: 16,\n",
              " 28: 16,\n",
              " 29: 12,\n",
              " 30: 12,\n",
              " 31: 3,\n",
              " 32: 1,\n",
              " 33: 2,\n",
              " 34: 1,\n",
              " 35: 3,\n",
              " 37: 1,\n",
              " 39: 1}"
            ]
          },
          "metadata": {},
          "execution_count": 49
        }
      ]
    },
    {
      "cell_type": "markdown",
      "source": [
        "задание 7\n"
      ],
      "metadata": {
        "id": "Hs6OfcCsIsLm"
      }
    },
    {
      "cell_type": "code",
      "source": [
        "five= np.where( a[:,2]<= 5)\n",
        "new = a[five]\n",
        "new"
      ],
      "metadata": {
        "colab": {
          "base_uri": "https://localhost:8080/"
        },
        "id": "u5kBg_pUcC5F",
        "outputId": "4123c85e-40e0-48fe-8252-ffb1d4632130"
      },
      "execution_count": null,
      "outputs": [
        {
          "output_type": "execute_result",
          "data": {
            "text/plain": [
              "array([[446597,     15,      5],\n",
              "       [204134,      5,      3],\n",
              "       [ 25623,      6,      4],\n",
              "       ...,\n",
              "       [ 52088,     60,      5],\n",
              "       [128811,     15,      4],\n",
              "       [370915,      5,      4]])"
            ]
          },
          "metadata": {},
          "execution_count": 50
        }
      ]
    },
    {
      "cell_type": "markdown",
      "source": [
        "задание 8"
      ],
      "metadata": {
        "id": "QM_gRlX5IvEk"
      }
    },
    {
      "cell_type": "code",
      "source": [
        "h=a[:,1]/a[:,2]\n",
        "print(h.astype(int))\n",
        "print(h.max())"
      ],
      "metadata": {
        "colab": {
          "base_uri": "https://localhost:8080/"
        },
        "id": "LxjveJy-ddI8",
        "outputId": "9d538ef7-05bb-45e6-b34c-4ad2f1cfe3c5"
      },
      "execution_count": null,
      "outputs": [
        {
          "output_type": "stream",
          "name": "stdout",
          "text": [
            "[ 3  3  1 ...  4  1 10]\n",
            "268435455.875\n"
          ]
        }
      ]
    },
    {
      "cell_type": "markdown",
      "source": [
        "Задание 9"
      ],
      "metadata": {
        "id": "5LU9BFV4JFfa"
      }
    },
    {
      "cell_type": "code",
      "source": [
        "sorts =np.sort(a[:,1])[::-1]\n",
        "sorts=sorts[:100]\n",
        "print(sorts.sum()/100)"
      ],
      "metadata": {
        "colab": {
          "base_uri": "https://localhost:8080/"
        },
        "id": "lYTnWDw8rNxA",
        "outputId": "e2f0a692-3eb5-4df9-95c4-201d082ea224"
      },
      "execution_count": null,
      "outputs": [
        {
          "output_type": "stream",
          "name": "stdout",
          "text": [
            "21518445.39\n"
          ]
        }
      ]
    },
    {
      "cell_type": "markdown",
      "source": [
        "Задание 10"
      ],
      "metadata": {
        "id": "VjAjg42GJPhd"
      }
    },
    {
      "cell_type": "code",
      "source": [
        "print(a[np.random.randint(0, a.shape[0], size = 10)])"
      ],
      "metadata": {
        "colab": {
          "base_uri": "https://localhost:8080/"
        },
        "id": "ZnZtu0SBJRRv",
        "outputId": "2fc8d6d5-c21a-4672-e7c5-492d318dd42e"
      },
      "execution_count": 8,
      "outputs": [
        {
          "output_type": "stream",
          "name": "stdout",
          "text": [
            "[[122817     40      5]\n",
            " [437232      9      4]\n",
            " [306135     35     10]\n",
            " [167556     35      7]\n",
            " [ 13168    130      5]\n",
            " [461292     35     13]\n",
            " [323737     35      7]\n",
            " [ 39100     41     10]\n",
            " [278836     90     13]\n",
            " [ 78971     30     11]]\n"
          ]
        }
      ]
    },
    {
      "cell_type": "markdown",
      "source": [
        "Задание 11"
      ],
      "metadata": {
        "id": "lPOJr6_BJHuB"
      }
    },
    {
      "cell_type": "code",
      "source": [
        "Q=np.where(a[:,2]<ingsr)\n",
        "pers=(len(a[Q])/len(a[:,2]))*100\n",
        "print(pers)"
      ],
      "metadata": {
        "colab": {
          "base_uri": "https://localhost:8080/"
        },
        "id": "xI6kZmclkCdR",
        "outputId": "1e4b3725-436a-4485-9751-2605aaf95c70"
      },
      "execution_count": null,
      "outputs": [
        {
          "output_type": "stream",
          "name": "stdout",
          "text": [
            "48.217\n"
          ]
        }
      ]
    }
  ]
}