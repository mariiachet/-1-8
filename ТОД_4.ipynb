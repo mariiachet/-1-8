{
  "nbformat": 4,
  "nbformat_minor": 0,
  "metadata": {
    "colab": {
      "provenance": []
    },
    "kernelspec": {
      "name": "python3",
      "display_name": "Python 3"
    },
    "language_info": {
      "name": "python"
    }
  },
  "cells": [
    {
      "cell_type": "markdown",
      "source": [
        "Задание 1\n",
        "На листе \"Рецептура\" файла себестоимостьА_в1.xlsx для области \"Пшеничный хлеб\" рассчитать \n",
        "себестоимость всех видов продукции."
      ],
      "metadata": {
        "id": "Sej1R-0oO1Rh"
      }
    },
    {
      "cell_type": "code",
      "execution_count": 3,
      "metadata": {
        "colab": {
          "base_uri": "https://localhost:8080/",
          "height": 235
        },
        "id": "mljPMVMGENM2",
        "outputId": "53005938-46d3-46a1-80e1-2281e47fa282"
      },
      "outputs": [
        {
          "output_type": "error",
          "ename": "NameError",
          "evalue": "ignored",
          "traceback": [
            "\u001b[0;31m---------------------------------------------------------------------------\u001b[0m",
            "\u001b[0;31mNameError\u001b[0m                                 Traceback (most recent call last)",
            "\u001b[0;32m<ipython-input-3-dea5a7be2f87>\u001b[0m in \u001b[0;36m<cell line: 8>\u001b[0;34m()\u001b[0m\n\u001b[1;32m      6\u001b[0m \u001b[0;34m\u001b[0m\u001b[0m\n\u001b[1;32m      7\u001b[0m \u001b[0;31m#ws=b value=values\u001b[0m\u001b[0;34m\u001b[0m\u001b[0;34m\u001b[0m\u001b[0m\n\u001b[0;32m----> 8\u001b[0;31m \u001b[0ma\u001b[0m \u001b[0;34m=\u001b[0m \u001b[0mxw\u001b[0m\u001b[0;34m.\u001b[0m\u001b[0mBook\u001b[0m\u001b[0;34m(\u001b[0m\u001b[0;34m'себестоимостьА_в1.xlsx'\u001b[0m\u001b[0;34m)\u001b[0m\u001b[0;34m\u001b[0m\u001b[0;34m\u001b[0m\u001b[0m\n\u001b[0m\u001b[1;32m      9\u001b[0m \u001b[0mb\u001b[0m \u001b[0;34m=\u001b[0m \u001b[0ma\u001b[0m\u001b[0;34m.\u001b[0m\u001b[0msheets\u001b[0m\u001b[0;34m[\u001b[0m\u001b[0;36m0\u001b[0m\u001b[0;34m]\u001b[0m\u001b[0;34m\u001b[0m\u001b[0;34m\u001b[0m\u001b[0m\n\u001b[1;32m     10\u001b[0m \u001b[0mtable\u001b[0m \u001b[0;34m=\u001b[0m \u001b[0mb\u001b[0m\u001b[0;34m[\u001b[0m\u001b[0;34m'рцп_пшеничный_хлеб'\u001b[0m\u001b[0;34m]\u001b[0m\u001b[0;34m.\u001b[0m\u001b[0moptions\u001b[0m\u001b[0;34m(\u001b[0m\u001b[0mempty\u001b[0m\u001b[0;34m=\u001b[0m\u001b[0;36m0\u001b[0m\u001b[0;34m)\u001b[0m\u001b[0;34m\u001b[0m\u001b[0;34m\u001b[0m\u001b[0m\n",
            "\u001b[0;31mNameError\u001b[0m: name 'xw' is not defined"
          ]
        }
      ],
      "source": [
        "#import xlwings as xw\n",
        "import os\n",
        "import pandas as pd\n",
        "import numpy as np\n",
        "import datetime\n",
        "\n",
        "#ws=b value=values\n",
        "a = xw.Book('себестоимостьА_в1.xlsx')\n",
        "b = a.sheets[0]\n",
        "table = b['рцп_пшеничный_хлеб'].options(empty=0)\n",
        "value = table.value\n",
        "value_price = [i for i in value if i[0] == 'Цена ресурсов, руб.'][0]\n",
        "value_price = value_price[5:-4]\n",
        "value_resours = value[3:7]\n",
        "for i in range(len(value_resours)):\n",
        "    value_resours[i] = value_resours[i][5:-4]\n",
        "\n",
        "sum = []\n",
        "for el in value_resours:\n",
        "    sum1 = 0\n",
        "    for i in range(len(el)):\n",
        "        sum1 += el[i]*value_price[i]\n",
        "    sum.append(sum)\n",
        "sum"
      ]
    },
    {
      "cell_type": "markdown",
      "source": [
        "Задание 2\n",
        "Результаты расчетов 1.1 сохранить в отдельном столбце области \"Пшеничный \n",
        "хлеб\""
      ],
      "metadata": {
        "id": "wMz4TulMQ93p"
      }
    },
    {
      "cell_type": "code",
      "source": [
        "b['P7'].options(transpose=True).value = sum"
      ],
      "metadata": {
        "colab": {
          "base_uri": "https://localhost:8080/",
          "height": 165
        },
        "id": "lxmHI9snRHX8",
        "outputId": "f2f83961-3ff4-491d-aa16-2108a867e86b"
      },
      "execution_count": 4,
      "outputs": [
        {
          "output_type": "error",
          "ename": "NameError",
          "evalue": "ignored",
          "traceback": [
            "\u001b[0;31m---------------------------------------------------------------------------\u001b[0m",
            "\u001b[0;31mNameError\u001b[0m                                 Traceback (most recent call last)",
            "\u001b[0;32m<ipython-input-4-985d55ec2917>\u001b[0m in \u001b[0;36m<cell line: 1>\u001b[0;34m()\u001b[0m\n\u001b[0;32m----> 1\u001b[0;31m \u001b[0mb\u001b[0m\u001b[0;34m[\u001b[0m\u001b[0;34m'P7'\u001b[0m\u001b[0;34m]\u001b[0m\u001b[0;34m.\u001b[0m\u001b[0moptions\u001b[0m\u001b[0;34m(\u001b[0m\u001b[0mtranspose\u001b[0m\u001b[0;34m=\u001b[0m\u001b[0;32mTrue\u001b[0m\u001b[0;34m)\u001b[0m\u001b[0;34m.\u001b[0m\u001b[0mvalue\u001b[0m \u001b[0;34m=\u001b[0m \u001b[0msum\u001b[0m\u001b[0;34m\u001b[0m\u001b[0;34m\u001b[0m\u001b[0m\n\u001b[0m",
            "\u001b[0;31mNameError\u001b[0m: name 'b' is not defined"
          ]
        }
      ]
    },
    {
      "cell_type": "markdown",
      "source": [
        "Задание 3\n",
        "Приблизить форматирование столбца, добавленного в задаче 2 к оформлению всей области"
      ],
      "metadata": {
        "id": "9tIP_U2NRT7F"
      }
    },
    {
      "cell_type": "code",
      "source": [
        "b['P5'].value = 'Себестоимость единицы продукции'"
      ],
      "metadata": {
        "id": "1zioXGJbRaGY"
      },
      "execution_count": null,
      "outputs": []
    },
    {
      "cell_type": "markdown",
      "source": [
        "Задание 1\n",
        "Загрузите данные из файлов reviews_sample.csv (ЛР2) и recipes_sample.csv (ЛР5) в виде pd.DataFrame. Обратите внимание на корректное считывание столбца(ов) с индексами. Оставьте в таблице с рецептами следующие столбцы: id, name, minutes, submitted, description, n_ingredients"
      ],
      "metadata": {
        "id": "OkrQKiiIRkSI"
      }
    },
    {
      "cell_type": "code",
      "source": [
        "reviews = pd.read_csv('reviews_sample.csv')\n",
        "reviews.rename(columns={reviews.columns[0] : 'index'}, inplace=True)\n",
        "recipes = pd.read_csv('recipes_sample.csv')\n",
        "recipes = recipes.drop('contributor_id', axis=1)"
      ],
      "metadata": {
        "id": "f7hhGdzIRs9Q"
      },
      "execution_count": 5,
      "outputs": []
    },
    {
      "cell_type": "markdown",
      "source": [
        "Задание 2\n",
        "Случайным образом выберите 5% строк из каждой таблицы и сохраните две таблицы на разные листы в один файл recipes.xlsx. Дайте листам названия \"Рецепты\" и \"Отзывы\", соответствующие содержанию таблиц."
      ],
      "metadata": {
        "id": "SetI3P5tTdrt"
      }
    },
    {
      "cell_type": "code",
      "source": [
        "import random\n",
        "import openpyxl\n",
        "randoms = random.sample(range(0, len(recipes)), int(len(recipes)/20))\n",
        "randoms1 = random.sample(range(0, len(reviews)), int(len(reviews)/20))\n",
        "\n",
        "f = r'C:\\\\Users\\\\Влад\\\\Desktop\\\\учеба\\\\тод\\\\лр4\\\\data\\\\recipes.xlsx'\n",
        "wb = openpyxl.Workbook()\n",
        "wb.save(f)\n",
        "recipes['submitted'] = pd.to_datetime(recipes['submitted'])\n",
        "reviews['date'] = pd.to_datetime(reviews['date'])\n",
        "file = xw.Book(f)\n",
        "file.sheets[0].name = \"Рецепты\"\n",
        "file.sheets.add(name=\"Отзывы\", after=file.sheets[0].name)\n",
        "b = file.sheets[0]\n",
        "b1 = file.sheets[1]\n",
        "lst = [recipes.loc[rand] for rand in randoms]\n",
        "df = pd.DataFrame(lst)\n",
        "b.activate()\n",
        "b['A1'].options(index=False).value = df\n",
        "b['D:D'][1:].number_format = 'ДД.ММ.ГГГГ'\n",
        "b['E:E'][1:].number_format = '0'\n",
        "\n",
        "b1.activate()\n",
        "lst1 = [reviews.loc[rand] for rand in randoms1]\n",
        "df1 = pd.DataFrame(lst1)\n",
        "b1['A1'].options(index=False).value = df1\n",
        "b1['E:E'][1:].number_format = '0'"
      ],
      "metadata": {
        "colab": {
          "base_uri": "https://localhost:8080/",
          "height": 235
        },
        "id": "QXsXNxATTg8A",
        "outputId": "a028568a-01af-4592-e2d0-ddb6fcae67b8"
      },
      "execution_count": 7,
      "outputs": [
        {
          "output_type": "error",
          "ename": "NameError",
          "evalue": "ignored",
          "traceback": [
            "\u001b[0;31m---------------------------------------------------------------------------\u001b[0m",
            "\u001b[0;31mNameError\u001b[0m                                 Traceback (most recent call last)",
            "\u001b[0;32m<ipython-input-7-304b775d8090>\u001b[0m in \u001b[0;36m<cell line: 11>\u001b[0;34m()\u001b[0m\n\u001b[1;32m      9\u001b[0m \u001b[0mrecipes\u001b[0m\u001b[0;34m[\u001b[0m\u001b[0;34m'submitted'\u001b[0m\u001b[0;34m]\u001b[0m \u001b[0;34m=\u001b[0m \u001b[0mpd\u001b[0m\u001b[0;34m.\u001b[0m\u001b[0mto_datetime\u001b[0m\u001b[0;34m(\u001b[0m\u001b[0mrecipes\u001b[0m\u001b[0;34m[\u001b[0m\u001b[0;34m'submitted'\u001b[0m\u001b[0;34m]\u001b[0m\u001b[0;34m)\u001b[0m\u001b[0;34m\u001b[0m\u001b[0;34m\u001b[0m\u001b[0m\n\u001b[1;32m     10\u001b[0m \u001b[0mreviews\u001b[0m\u001b[0;34m[\u001b[0m\u001b[0;34m'date'\u001b[0m\u001b[0;34m]\u001b[0m \u001b[0;34m=\u001b[0m \u001b[0mpd\u001b[0m\u001b[0;34m.\u001b[0m\u001b[0mto_datetime\u001b[0m\u001b[0;34m(\u001b[0m\u001b[0mreviews\u001b[0m\u001b[0;34m[\u001b[0m\u001b[0;34m'date'\u001b[0m\u001b[0;34m]\u001b[0m\u001b[0;34m)\u001b[0m\u001b[0;34m\u001b[0m\u001b[0;34m\u001b[0m\u001b[0m\n\u001b[0;32m---> 11\u001b[0;31m \u001b[0mfile\u001b[0m \u001b[0;34m=\u001b[0m \u001b[0mxw\u001b[0m\u001b[0;34m.\u001b[0m\u001b[0mBook\u001b[0m\u001b[0;34m(\u001b[0m\u001b[0mf\u001b[0m\u001b[0;34m)\u001b[0m\u001b[0;34m\u001b[0m\u001b[0;34m\u001b[0m\u001b[0m\n\u001b[0m\u001b[1;32m     12\u001b[0m \u001b[0mfile\u001b[0m\u001b[0;34m.\u001b[0m\u001b[0msheets\u001b[0m\u001b[0;34m[\u001b[0m\u001b[0;36m0\u001b[0m\u001b[0;34m]\u001b[0m\u001b[0;34m.\u001b[0m\u001b[0mname\u001b[0m \u001b[0;34m=\u001b[0m \u001b[0;34m\"Рецепты\"\u001b[0m\u001b[0;34m\u001b[0m\u001b[0;34m\u001b[0m\u001b[0m\n\u001b[1;32m     13\u001b[0m \u001b[0mfile\u001b[0m\u001b[0;34m.\u001b[0m\u001b[0msheets\u001b[0m\u001b[0;34m.\u001b[0m\u001b[0madd\u001b[0m\u001b[0;34m(\u001b[0m\u001b[0mname\u001b[0m\u001b[0;34m=\u001b[0m\u001b[0;34m\"Отзывы\"\u001b[0m\u001b[0;34m,\u001b[0m \u001b[0mafter\u001b[0m\u001b[0;34m=\u001b[0m\u001b[0mfile\u001b[0m\u001b[0;34m.\u001b[0m\u001b[0msheets\u001b[0m\u001b[0;34m[\u001b[0m\u001b[0;36m0\u001b[0m\u001b[0;34m]\u001b[0m\u001b[0;34m.\u001b[0m\u001b[0mname\u001b[0m\u001b[0;34m)\u001b[0m\u001b[0;34m\u001b[0m\u001b[0;34m\u001b[0m\u001b[0m\n",
            "\u001b[0;31mNameError\u001b[0m: name 'xw' is not defined"
          ]
        }
      ]
    },
    {
      "cell_type": "markdown",
      "source": [
        "Задание 3\n",
        "Используя xlwings, добавьте на лист Рецепты столбец seconds_assign, показывающий время выполнения рецепта в секундах. Выполните задание при помощи присваивания массива значений диапазону ячеек."
      ],
      "metadata": {
        "id": "M0Njz7FbTnLc"
      }
    },
    {
      "cell_type": "code",
      "source": [
        "seconds = [el*60 for el in df['minutes'].tolist()]\n",
        "seconds = pd.DataFrame(seconds)\n",
        "seconds.columns = ['seconds_assign']\n",
        "b[f'I1:I{len(df)}'].options(index=False).value = seconds"
      ],
      "metadata": {
        "id": "YrSbPvNDUNh8"
      },
      "execution_count": null,
      "outputs": []
    },
    {
      "cell_type": "markdown",
      "source": [
        "Задание 4\n",
        "Используя xlwings, добавьте на лист Рецепты столбец seconds_formula, показывающий время выполнения рецепта в секундах. Выполните задание при помощи формул Excel."
      ],
      "metadata": {
        "id": "T01CGkFXUVDd"
      }
    },
    {
      "cell_type": "code",
      "source": [
        "b['J1'].value = 'seconds_formula'\n",
        "b['J:J'][1:].formula = f'=C2 * 60'"
      ],
      "metadata": {
        "id": "GPr3z0bJUa7y"
      },
      "execution_count": null,
      "outputs": []
    },
    {
      "cell_type": "markdown",
      "source": [
        "Задание 5\n",
        "Сделайте названия всех добавленных столбцов полужирными и выровняйте по центру ячейки."
      ],
      "metadata": {
        "id": "lCWRMo9zUg9e"
      }
    },
    {
      "cell_type": "code",
      "source": [
        "b['I1:J1'].font.bold = True\n",
        "b['I:J'].api.HorizontalAlignment = xw.constants.HAlign.xlHAlignCenter"
      ],
      "metadata": {
        "id": "G9OknSNLUluM"
      },
      "execution_count": null,
      "outputs": []
    },
    {
      "cell_type": "markdown",
      "source": [
        "Задание 6\n",
        "Раскрасьте ячейки столбца minutes в соответствии со следующим правилом: если рецепт выполняется быстрее 5 минут, то цвет - зеленый; от 5 до 10 минут - жёлтый; и больше 10 - красный."
      ],
      "metadata": {
        "id": "kRl72UqNUqRN"
      }
    },
    {
      "cell_type": "code",
      "source": [
        "for el in b['C:C'][1:].expand('down'):\n",
        "    if el.value < 5:\n",
        "        el.color = (0, 255, 0)\n",
        "    elif el.value > 10:\n",
        "        el.color = (255, 0, 0)\n",
        "    else:\n",
        "        el.color = (255, 255, 0)"
      ],
      "metadata": {
        "id": "zXAeNsc1Uu1g"
      },
      "execution_count": null,
      "outputs": []
    },
    {
      "cell_type": "markdown",
      "source": [
        "Задание 7\n",
        "Добавьте на лист Рецепты столбец n_reviews, содержащий кол-во отзывов для этого рецепта. Выполните задание при помощи формул Excel."
      ],
      "metadata": {
        "id": "ToismoMgUuDc"
      }
    },
    {
      "cell_type": "code",
      "source": [
        "recipe_ids = []\n",
        "for el in lst:   \n",
        "    recipe_ids.append(el.id)  \n",
        "n_reviews = reviews.groupby('recipe_id').count()['review']\n",
        "recipe_n_rev = []\n",
        "for el in recipe_ids:  \n",
        "    try:\n",
        "        recipe_n_rev.append(n_reviews[el])\n",
        "    except KeyError:\n",
        "        recipe_n_rev.append(0)\n",
        "for i in range(len(recipe_n_rev)):\n",
        "    recipe_n_rev[i] = [recipe_n_rev[i]]\n",
        "b['K1'].value = 'n_reviews'\n",
        "b['K:K'][1:].expand('down').value = recipe_n_rev "
      ],
      "metadata": {
        "id": "IEoxANvoU6MA"
      },
      "execution_count": null,
      "outputs": []
    },
    {
      "cell_type": "markdown",
      "source": [
        "Задание 8\n",
        " Напишите функцию `validate()`, которая проверяет соответствие всех строк из листа `Отзывы` следующим правилам:\n",
        "    * Рейтинг - это число от 0 до 5 включительно\n",
        "    * Соответствующий рецепт имеется на листе `Рецепты`\n",
        "    \n",
        "В случае несоответствия этим правилам, выделите строку красным цветом"
      ],
      "metadata": {
        "id": "fCX50tNcVJpA"
      }
    },
    {
      "cell_type": "code",
      "source": [
        "def validate():\n",
        "    recipe_id = b['B:B'][1:].value\n",
        "    for i,j in enumerate(reviews.range('A2').expand().value):\n",
        "        if j[2] not in recipe_id or not 0.0 <= j[4] <= 5.0:\n",
        "            reviews.range(f'A{i+1}:F{i+1}').color = (255, 0, 0)"
      ],
      "metadata": {
        "id": "K_TtgtcDV1mr"
      },
      "execution_count": null,
      "outputs": []
    },
    {
      "cell_type": "code",
      "source": [
        "validate()"
      ],
      "metadata": {
        "id": "vxxItdfzX_aX"
      },
      "execution_count": null,
      "outputs": []
    },
    {
      "cell_type": "markdown",
      "source": [
        "Задание 9\n",
        "В файле recipes_model.csv находится модель данных предметной области \"рецепты\". При помощи пакета csv считайте эти данные. При помощи пакета xlwings запишите данные на лист Модель книги recipes_model.xlsx, начиная с ячейки A2, не используя циклы. Сделайте скриншот текущего состояния листа и прикрепите в ячейку ноутбука."
      ],
      "metadata": {
        "id": "7TcwmyrZX5CW"
      }
    },
    {
      "cell_type": "code",
      "source": [
        "import csv\n",
        "with open('recipes_model.csv', encoding='utf-8') as f:\n",
        "    reader = csv.reader(f, delimiter = \"\\t\")\n",
        "    list_ = []\n",
        "    for i in reader:\n",
        "        list_.append(','.join(i).split(','))\n",
        "print(list_)"
      ],
      "metadata": {
        "id": "2Domzh7IYLAm"
      },
      "execution_count": null,
      "outputs": []
    },
    {
      "cell_type": "code",
      "source": [
        "wb = xw.Book()\n",
        "wb.sheets.add('Модуль')\n",
        "b = wb.sheets['Модуль']\n",
        "b.range('A2').value = list_[:]"
      ],
      "metadata": {
        "id": "_gfqm8_JYcog"
      },
      "execution_count": null,
      "outputs": []
    }
  ]
}